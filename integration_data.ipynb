{
 "cells": [
  {
   "cell_type": "code",
   "execution_count": 4,
   "id": "992acd03",
   "metadata": {},
   "outputs": [
    {
     "name": "stdout",
     "output_type": "stream",
     "text": [
      "{'augmented_samples': 56,\n",
      " 'duplicates_removed': 220,\n",
      " 'final_samples': 17101,\n",
      " 'original_samples': 17321,\n",
      " 'selected_augmented': 0,\n",
      " 'strategy_used': 'balanced'}\n"
     ]
    }
   ],
   "source": [
    "from src.integration import DataIntegrator\n",
    "import json\n",
    "\n",
    "augmented_data = []\n",
    "with open('data/output/final/final/final_dataset_20250717_004446.jsonl', 'r', encoding='utf-8') as f:\n",
    "    for line in f:\n",
    "        augmented_data.append(json.loads(line.strip()))\n",
    "\n",
    "integrator = DataIntegrator(config={\n",
    "    'strategy': 'balanced',  \n",
    "    'preserve_original_data': True,\n",
    "    'add_augmentation_metadata': True,\n",
    "    'output_format': 'jsonl'  \n",
    "})\n",
    "\n",
    "report = integrator.integrate_augmented_data(\n",
    "    original_path='meta_data.jsonl',\n",
    "    augmented_data=augmented_data,\n",
    "    output_path='data/merged/meta_data_augmented.jsonl'\n",
    ")\n",
    "\n",
    "import pprint\n",
    "pprint.pprint(report['integration_summary'])\n"
   ]
  }
 ],
 "metadata": {
  "kernelspec": {
   "display_name": "Python 3",
   "language": "python",
   "name": "python3"
  },
  "language_info": {
   "codemirror_mode": {
    "name": "ipython",
    "version": 3
   },
   "file_extension": ".py",
   "mimetype": "text/x-python",
   "name": "python",
   "nbconvert_exporter": "python",
   "pygments_lexer": "ipython3",
   "version": "3.11.6"
  }
 },
 "nbformat": 4,
 "nbformat_minor": 5
}
